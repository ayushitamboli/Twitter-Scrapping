{
 "cells": [
  {
   "cell_type": "code",
   "execution_count": 1,
   "id": "72471088",
   "metadata": {
    "_cell_guid": "b1076dfc-b9ad-4769-8c92-a6c4dae69d19",
    "_uuid": "8f2839f25d086af736a60e9eeb907d3b93b6e0e5",
    "execution": {
     "iopub.execute_input": "2024-02-03T05:51:14.071178Z",
     "iopub.status.busy": "2024-02-03T05:51:14.070860Z",
     "iopub.status.idle": "2024-02-03T05:51:16.565258Z",
     "shell.execute_reply": "2024-02-03T05:51:16.563928Z"
    },
    "papermill": {
     "duration": 2.505904,
     "end_time": "2024-02-03T05:51:16.567931",
     "exception": false,
     "start_time": "2024-02-03T05:51:14.062027",
     "status": "completed"
    },
    "tags": []
   },
   "outputs": [
    {
     "name": "stdout",
     "output_type": "stream",
     "text": [
      "/kaggle/input/loan-status-prediction/loan_data.csv\n"
     ]
    }
   ],
   "source": [
    "import numpy as np # linear algebra\n",
    "import pandas as pd # data processing, CSV file I/O (e.g. pd.read_csv)\n",
    "\n",
    "import matplotlib.pyplot as plt\n",
    "import seaborn as sns\n",
    "\n",
    "import warnings\n",
    "warnings.filterwarnings(\"ignore\")\n",
    "\n",
    "import os\n",
    "for dirname, _, filenames in os.walk('/kaggle/input'):\n",
    "    for filename in filenames:\n",
    "        print(os.path.join(dirname, filename))"
   ]
  },
  {
   "cell_type": "markdown",
   "id": "e71fe0d9",
   "metadata": {
    "papermill": {
     "duration": 0.006414,
     "end_time": "2024-02-03T05:51:16.581976",
     "exception": false,
     "start_time": "2024-02-03T05:51:16.575562",
     "status": "completed"
    },
    "tags": []
   },
   "source": [
    "# Load the dataset"
   ]
  },
  {
   "cell_type": "code",
   "execution_count": 2,
   "id": "97867286",
   "metadata": {
    "execution": {
     "iopub.execute_input": "2024-02-03T05:51:16.598263Z",
     "iopub.status.busy": "2024-02-03T05:51:16.597774Z",
     "iopub.status.idle": "2024-02-03T05:51:16.615028Z",
     "shell.execute_reply": "2024-02-03T05:51:16.614278Z"
    },
    "papermill": {
     "duration": 0.027341,
     "end_time": "2024-02-03T05:51:16.617018",
     "exception": false,
     "start_time": "2024-02-03T05:51:16.589677",
     "status": "completed"
    },
    "tags": []
   },
   "outputs": [],
   "source": [
    "df = pd.read_csv(\"/kaggle/input/loan-status-prediction/loan_data.csv\")"
   ]
  },
  {
   "cell_type": "code",
   "execution_count": 3,
   "id": "7cce8716",
   "metadata": {
    "execution": {
     "iopub.execute_input": "2024-02-03T05:51:16.632503Z",
     "iopub.status.busy": "2024-02-03T05:51:16.631830Z",
     "iopub.status.idle": "2024-02-03T05:51:16.657324Z",
     "shell.execute_reply": "2024-02-03T05:51:16.656048Z"
    },
    "papermill": {
     "duration": 0.035839,
     "end_time": "2024-02-03T05:51:16.659731",
     "exception": false,
     "start_time": "2024-02-03T05:51:16.623892",
     "status": "completed"
    },
    "tags": []
   },
   "outputs": [
    {
     "data": {
      "text/html": [
       "<div>\n",
       "<style scoped>\n",
       "    .dataframe tbody tr th:only-of-type {\n",
       "        vertical-align: middle;\n",
       "    }\n",
       "\n",
       "    .dataframe tbody tr th {\n",
       "        vertical-align: top;\n",
       "    }\n",
       "\n",
       "    .dataframe thead th {\n",
       "        text-align: right;\n",
       "    }\n",
       "</style>\n",
       "<table border=\"1\" class=\"dataframe\">\n",
       "  <thead>\n",
       "    <tr style=\"text-align: right;\">\n",
       "      <th></th>\n",
       "      <th>Loan_ID</th>\n",
       "      <th>Gender</th>\n",
       "      <th>Married</th>\n",
       "      <th>Dependents</th>\n",
       "      <th>Education</th>\n",
       "      <th>Self_Employed</th>\n",
       "      <th>ApplicantIncome</th>\n",
       "      <th>CoapplicantIncome</th>\n",
       "      <th>LoanAmount</th>\n",
       "      <th>Loan_Amount_Term</th>\n",
       "      <th>Credit_History</th>\n",
       "      <th>Property_Area</th>\n",
       "      <th>Loan_Status</th>\n",
       "    </tr>\n",
       "  </thead>\n",
       "  <tbody>\n",
       "    <tr>\n",
       "      <th>0</th>\n",
       "      <td>LP001003</td>\n",
       "      <td>Male</td>\n",
       "      <td>Yes</td>\n",
       "      <td>1</td>\n",
       "      <td>Graduate</td>\n",
       "      <td>No</td>\n",
       "      <td>4583</td>\n",
       "      <td>1508.0</td>\n",
       "      <td>128.0</td>\n",
       "      <td>360.0</td>\n",
       "      <td>1.0</td>\n",
       "      <td>Rural</td>\n",
       "      <td>N</td>\n",
       "    </tr>\n",
       "    <tr>\n",
       "      <th>1</th>\n",
       "      <td>LP001005</td>\n",
       "      <td>Male</td>\n",
       "      <td>Yes</td>\n",
       "      <td>0</td>\n",
       "      <td>Graduate</td>\n",
       "      <td>Yes</td>\n",
       "      <td>3000</td>\n",
       "      <td>0.0</td>\n",
       "      <td>66.0</td>\n",
       "      <td>360.0</td>\n",
       "      <td>1.0</td>\n",
       "      <td>Urban</td>\n",
       "      <td>Y</td>\n",
       "    </tr>\n",
       "    <tr>\n",
       "      <th>2</th>\n",
       "      <td>LP001006</td>\n",
       "      <td>Male</td>\n",
       "      <td>Yes</td>\n",
       "      <td>0</td>\n",
       "      <td>Not Graduate</td>\n",
       "      <td>No</td>\n",
       "      <td>2583</td>\n",
       "      <td>2358.0</td>\n",
       "      <td>120.0</td>\n",
       "      <td>360.0</td>\n",
       "      <td>1.0</td>\n",
       "      <td>Urban</td>\n",
       "      <td>Y</td>\n",
       "    </tr>\n",
       "    <tr>\n",
       "      <th>3</th>\n",
       "      <td>LP001008</td>\n",
       "      <td>Male</td>\n",
       "      <td>No</td>\n",
       "      <td>0</td>\n",
       "      <td>Graduate</td>\n",
       "      <td>No</td>\n",
       "      <td>6000</td>\n",
       "      <td>0.0</td>\n",
       "      <td>141.0</td>\n",
       "      <td>360.0</td>\n",
       "      <td>1.0</td>\n",
       "      <td>Urban</td>\n",
       "      <td>Y</td>\n",
       "    </tr>\n",
       "    <tr>\n",
       "      <th>4</th>\n",
       "      <td>LP001013</td>\n",
       "      <td>Male</td>\n",
       "      <td>Yes</td>\n",
       "      <td>0</td>\n",
       "      <td>Not Graduate</td>\n",
       "      <td>No</td>\n",
       "      <td>2333</td>\n",
       "      <td>1516.0</td>\n",
       "      <td>95.0</td>\n",
       "      <td>360.0</td>\n",
       "      <td>1.0</td>\n",
       "      <td>Urban</td>\n",
       "      <td>Y</td>\n",
       "    </tr>\n",
       "  </tbody>\n",
       "</table>\n",
       "</div>"
      ],
      "text/plain": [
       "    Loan_ID Gender Married Dependents     Education Self_Employed  \\\n",
       "0  LP001003   Male     Yes          1      Graduate            No   \n",
       "1  LP001005   Male     Yes          0      Graduate           Yes   \n",
       "2  LP001006   Male     Yes          0  Not Graduate            No   \n",
       "3  LP001008   Male      No          0      Graduate            No   \n",
       "4  LP001013   Male     Yes          0  Not Graduate            No   \n",
       "\n",
       "   ApplicantIncome  CoapplicantIncome  LoanAmount  Loan_Amount_Term  \\\n",
       "0             4583             1508.0       128.0             360.0   \n",
       "1             3000                0.0        66.0             360.0   \n",
       "2             2583             2358.0       120.0             360.0   \n",
       "3             6000                0.0       141.0             360.0   \n",
       "4             2333             1516.0        95.0             360.0   \n",
       "\n",
       "   Credit_History Property_Area Loan_Status  \n",
       "0             1.0         Rural           N  \n",
       "1             1.0         Urban           Y  \n",
       "2             1.0         Urban           Y  \n",
       "3             1.0         Urban           Y  \n",
       "4             1.0         Urban           Y  "
      ]
     },
     "execution_count": 3,
     "metadata": {},
     "output_type": "execute_result"
    }
   ],
   "source": [
    "df.head()"
   ]
  },
  {
   "cell_type": "code",
   "execution_count": 4,
   "id": "e4ea5785",
   "metadata": {
    "execution": {
     "iopub.execute_input": "2024-02-03T05:51:16.675949Z",
     "iopub.status.busy": "2024-02-03T05:51:16.675100Z",
     "iopub.status.idle": "2024-02-03T05:51:16.689426Z",
     "shell.execute_reply": "2024-02-03T05:51:16.688186Z"
    },
    "papermill": {
     "duration": 0.024549,
     "end_time": "2024-02-03T05:51:16.691557",
     "exception": false,
     "start_time": "2024-02-03T05:51:16.667008",
     "status": "completed"
    },
    "tags": []
   },
   "outputs": [],
   "source": [
    "df = df.drop(['Loan_ID'], axis=1)"
   ]
  },
  {
   "cell_type": "code",
   "execution_count": 5,
   "id": "d9edf6ac",
   "metadata": {
    "execution": {
     "iopub.execute_input": "2024-02-03T05:51:16.707205Z",
     "iopub.status.busy": "2024-02-03T05:51:16.706747Z",
     "iopub.status.idle": "2024-02-03T05:51:16.711858Z",
     "shell.execute_reply": "2024-02-03T05:51:16.711093Z"
    },
    "papermill": {
     "duration": 0.014783,
     "end_time": "2024-02-03T05:51:16.713483",
     "exception": false,
     "start_time": "2024-02-03T05:51:16.698700",
     "status": "completed"
    },
    "tags": []
   },
   "outputs": [
    {
     "data": {
      "text/plain": [
       "(381, 12)"
      ]
     },
     "execution_count": 5,
     "metadata": {},
     "output_type": "execute_result"
    }
   ],
   "source": [
    "# The numbers of rows and columns in the dataset.\n",
    "df.shape"
   ]
  },
  {
   "cell_type": "code",
   "execution_count": 6,
   "id": "81aee987",
   "metadata": {
    "execution": {
     "iopub.execute_input": "2024-02-03T05:51:16.729449Z",
     "iopub.status.busy": "2024-02-03T05:51:16.728934Z",
     "iopub.status.idle": "2024-02-03T05:51:16.757204Z",
     "shell.execute_reply": "2024-02-03T05:51:16.755863Z"
    },
    "papermill": {
     "duration": 0.039399,
     "end_time": "2024-02-03T05:51:16.759849",
     "exception": false,
     "start_time": "2024-02-03T05:51:16.720450",
     "status": "completed"
    },
    "tags": []
   },
   "outputs": [
    {
     "name": "stdout",
     "output_type": "stream",
     "text": [
      "<class 'pandas.core.frame.DataFrame'>\n",
      "RangeIndex: 381 entries, 0 to 380\n",
      "Data columns (total 12 columns):\n",
      " #   Column             Non-Null Count  Dtype  \n",
      "---  ------             --------------  -----  \n",
      " 0   Gender             376 non-null    object \n",
      " 1   Married            381 non-null    object \n",
      " 2   Dependents         373 non-null    object \n",
      " 3   Education          381 non-null    object \n",
      " 4   Self_Employed      360 non-null    object \n",
      " 5   ApplicantIncome    381 non-null    int64  \n",
      " 6   CoapplicantIncome  381 non-null    float64\n",
      " 7   LoanAmount         381 non-null    float64\n",
      " 8   Loan_Amount_Term   370 non-null    float64\n",
      " 9   Credit_History     351 non-null    float64\n",
      " 10  Property_Area      381 non-null    object \n",
      " 11  Loan_Status        381 non-null    object \n",
      "dtypes: float64(4), int64(1), object(7)\n",
      "memory usage: 35.8+ KB\n"
     ]
    }
   ],
   "source": [
    "df.info()"
   ]
  },
  {
   "cell_type": "markdown",
   "id": "cb87689b",
   "metadata": {
    "papermill": {
     "duration": 0.007224,
     "end_time": "2024-02-03T05:51:16.775804",
     "exception": false,
     "start_time": "2024-02-03T05:51:16.768580",
     "status": "completed"
    },
    "tags": []
   },
   "source": [
    "# Handling the missing values in the dataset"
   ]
  },
  {
   "cell_type": "code",
   "execution_count": 7,
   "id": "288d63de",
   "metadata": {
    "execution": {
     "iopub.execute_input": "2024-02-03T05:51:16.792499Z",
     "iopub.status.busy": "2024-02-03T05:51:16.791926Z",
     "iopub.status.idle": "2024-02-03T05:51:16.800327Z",
     "shell.execute_reply": "2024-02-03T05:51:16.799716Z"
    },
    "papermill": {
     "duration": 0.018961,
     "end_time": "2024-02-03T05:51:16.802078",
     "exception": false,
     "start_time": "2024-02-03T05:51:16.783117",
     "status": "completed"
    },
    "tags": []
   },
   "outputs": [
    {
     "data": {
      "text/plain": [
       "Gender                5\n",
       "Married               0\n",
       "Dependents            8\n",
       "Education             0\n",
       "Self_Employed        21\n",
       "ApplicantIncome       0\n",
       "CoapplicantIncome     0\n",
       "LoanAmount            0\n",
       "Loan_Amount_Term     11\n",
       "Credit_History       30\n",
       "Property_Area         0\n",
       "Loan_Status           0\n",
       "dtype: int64"
      ]
     },
     "execution_count": 7,
     "metadata": {},
     "output_type": "execute_result"
    }
   ],
   "source": [
    "df.isnull().sum()"
   ]
  },
  {
   "cell_type": "code",
   "execution_count": 8,
   "id": "32262923",
   "metadata": {
    "execution": {
     "iopub.execute_input": "2024-02-03T05:51:16.819191Z",
     "iopub.status.busy": "2024-02-03T05:51:16.818629Z",
     "iopub.status.idle": "2024-02-03T05:51:16.834140Z",
     "shell.execute_reply": "2024-02-03T05:51:16.833151Z"
    },
    "papermill": {
     "duration": 0.026976,
     "end_time": "2024-02-03T05:51:16.836307",
     "exception": false,
     "start_time": "2024-02-03T05:51:16.809331",
     "status": "completed"
    },
    "tags": []
   },
   "outputs": [],
   "source": [
    "df['Gender'] = df['Gender'].fillna(df['Gender'].mode().iloc[0])\n",
    "df['Self_Employed'] = df['Self_Employed'].fillna(df['Self_Employed'].mode().iloc[0])\n",
    "df['Loan_Amount_Term'] = df['Loan_Amount_Term'].fillna(df['Loan_Amount_Term'].mode().iloc[0]).astype(int)\n",
    "df['Credit_History'] = df['Credit_History'].fillna(df['Credit_History'].mode().iloc[0]).astype(int)\n",
    "\n",
    "df['Dependents'] = df['Dependents'].replace(['0', '1', '2', '3+'], [0,1,2,3,])\n",
    "df['Dependents'] = df['Dependents'].fillna(df['Dependents'].mode().iloc[0])\n",
    "\n",
    "df['CoapplicantIncome'] = df['CoapplicantIncome'].astype(int)\n",
    "df['LoanAmount'] = df['LoanAmount'].astype(int)"
   ]
  },
  {
   "cell_type": "code",
   "execution_count": 9,
   "id": "395b837f",
   "metadata": {
    "execution": {
     "iopub.execute_input": "2024-02-03T05:51:16.853920Z",
     "iopub.status.busy": "2024-02-03T05:51:16.853367Z",
     "iopub.status.idle": "2024-02-03T05:51:16.860802Z",
     "shell.execute_reply": "2024-02-03T05:51:16.860012Z"
    },
    "papermill": {
     "duration": 0.01862,
     "end_time": "2024-02-03T05:51:16.862582",
     "exception": false,
     "start_time": "2024-02-03T05:51:16.843962",
     "status": "completed"
    },
    "tags": []
   },
   "outputs": [
    {
     "data": {
      "text/plain": [
       "Gender               0\n",
       "Married              0\n",
       "Dependents           0\n",
       "Education            0\n",
       "Self_Employed        0\n",
       "ApplicantIncome      0\n",
       "CoapplicantIncome    0\n",
       "LoanAmount           0\n",
       "Loan_Amount_Term     0\n",
       "Credit_History       0\n",
       "Property_Area        0\n",
       "Loan_Status          0\n",
       "dtype: int64"
      ]
     },
     "execution_count": 9,
     "metadata": {},
     "output_type": "execute_result"
    }
   ],
   "source": [
    "df.isnull().sum()"
   ]
  },
  {
   "cell_type": "markdown",
   "id": "9f4e5b12",
   "metadata": {
    "papermill": {
     "duration": 0.007196,
     "end_time": "2024-02-03T05:51:16.877234",
     "exception": false,
     "start_time": "2024-02-03T05:51:16.870038",
     "status": "completed"
    },
    "tags": []
   },
   "source": [
    "# Converting categorical data into numerical form"
   ]
  },
  {
   "cell_type": "code",
   "execution_count": 10,
   "id": "4516c00a",
   "metadata": {
    "execution": {
     "iopub.execute_input": "2024-02-03T05:51:16.895213Z",
     "iopub.status.busy": "2024-02-03T05:51:16.894603Z",
     "iopub.status.idle": "2024-02-03T05:51:16.899300Z",
     "shell.execute_reply": "2024-02-03T05:51:16.898700Z"
    },
    "papermill": {
     "duration": 0.016024,
     "end_time": "2024-02-03T05:51:16.901520",
     "exception": false,
     "start_time": "2024-02-03T05:51:16.885496",
     "status": "completed"
    },
    "tags": []
   },
   "outputs": [],
   "source": [
    "def cat_to_num(df, c_var):\n",
    "    for i in c_var:\n",
    "        uniques_value = df[i].unique()\n",
    "        df[i].replace(uniques_value, [0, 1], inplace=True)\n",
    "\n",
    "    for i in ['Property_Area']:\n",
    "        uniques_value = df[i].unique()\n",
    "        df[i].replace(uniques_value, [0, 1, 3], inplace=True)"
   ]
  },
  {
   "cell_type": "code",
   "execution_count": 11,
   "id": "c69f36f3",
   "metadata": {
    "execution": {
     "iopub.execute_input": "2024-02-03T05:51:16.918449Z",
     "iopub.status.busy": "2024-02-03T05:51:16.917915Z",
     "iopub.status.idle": "2024-02-03T05:51:16.929610Z",
     "shell.execute_reply": "2024-02-03T05:51:16.928536Z"
    },
    "papermill": {
     "duration": 0.02278,
     "end_time": "2024-02-03T05:51:16.932024",
     "exception": false,
     "start_time": "2024-02-03T05:51:16.909244",
     "status": "completed"
    },
    "tags": []
   },
   "outputs": [],
   "source": [
    "c_variables = ['Gender', 'Married', 'Education', 'Education','Self_Employed', 'Loan_Status']\n",
    "\n",
    "cat_to_num(df, c_variables)"
   ]
  },
  {
   "cell_type": "code",
   "execution_count": 12,
   "id": "cb1ec1a5",
   "metadata": {
    "execution": {
     "iopub.execute_input": "2024-02-03T05:51:16.951903Z",
     "iopub.status.busy": "2024-02-03T05:51:16.950692Z",
     "iopub.status.idle": "2024-02-03T05:51:16.964305Z",
     "shell.execute_reply": "2024-02-03T05:51:16.962749Z"
    },
    "papermill": {
     "duration": 0.025159,
     "end_time": "2024-02-03T05:51:16.966132",
     "exception": false,
     "start_time": "2024-02-03T05:51:16.940973",
     "status": "completed"
    },
    "tags": []
   },
   "outputs": [
    {
     "data": {
      "text/html": [
       "<div>\n",
       "<style scoped>\n",
       "    .dataframe tbody tr th:only-of-type {\n",
       "        vertical-align: middle;\n",
       "    }\n",
       "\n",
       "    .dataframe tbody tr th {\n",
       "        vertical-align: top;\n",
       "    }\n",
       "\n",
       "    .dataframe thead th {\n",
       "        text-align: right;\n",
       "    }\n",
       "</style>\n",
       "<table border=\"1\" class=\"dataframe\">\n",
       "  <thead>\n",
       "    <tr style=\"text-align: right;\">\n",
       "      <th></th>\n",
       "      <th>Gender</th>\n",
       "      <th>Married</th>\n",
       "      <th>Dependents</th>\n",
       "      <th>Education</th>\n",
       "      <th>Self_Employed</th>\n",
       "      <th>ApplicantIncome</th>\n",
       "      <th>CoapplicantIncome</th>\n",
       "      <th>LoanAmount</th>\n",
       "      <th>Loan_Amount_Term</th>\n",
       "      <th>Credit_History</th>\n",
       "      <th>Property_Area</th>\n",
       "      <th>Loan_Status</th>\n",
       "    </tr>\n",
       "  </thead>\n",
       "  <tbody>\n",
       "    <tr>\n",
       "      <th>0</th>\n",
       "      <td>0</td>\n",
       "      <td>0</td>\n",
       "      <td>1.0</td>\n",
       "      <td>0</td>\n",
       "      <td>0</td>\n",
       "      <td>4583</td>\n",
       "      <td>1508</td>\n",
       "      <td>128</td>\n",
       "      <td>360</td>\n",
       "      <td>1</td>\n",
       "      <td>0</td>\n",
       "      <td>0</td>\n",
       "    </tr>\n",
       "    <tr>\n",
       "      <th>1</th>\n",
       "      <td>0</td>\n",
       "      <td>0</td>\n",
       "      <td>0.0</td>\n",
       "      <td>0</td>\n",
       "      <td>1</td>\n",
       "      <td>3000</td>\n",
       "      <td>0</td>\n",
       "      <td>66</td>\n",
       "      <td>360</td>\n",
       "      <td>1</td>\n",
       "      <td>1</td>\n",
       "      <td>1</td>\n",
       "    </tr>\n",
       "    <tr>\n",
       "      <th>2</th>\n",
       "      <td>0</td>\n",
       "      <td>0</td>\n",
       "      <td>0.0</td>\n",
       "      <td>1</td>\n",
       "      <td>0</td>\n",
       "      <td>2583</td>\n",
       "      <td>2358</td>\n",
       "      <td>120</td>\n",
       "      <td>360</td>\n",
       "      <td>1</td>\n",
       "      <td>1</td>\n",
       "      <td>1</td>\n",
       "    </tr>\n",
       "    <tr>\n",
       "      <th>3</th>\n",
       "      <td>0</td>\n",
       "      <td>1</td>\n",
       "      <td>0.0</td>\n",
       "      <td>0</td>\n",
       "      <td>0</td>\n",
       "      <td>6000</td>\n",
       "      <td>0</td>\n",
       "      <td>141</td>\n",
       "      <td>360</td>\n",
       "      <td>1</td>\n",
       "      <td>1</td>\n",
       "      <td>1</td>\n",
       "    </tr>\n",
       "    <tr>\n",
       "      <th>4</th>\n",
       "      <td>0</td>\n",
       "      <td>0</td>\n",
       "      <td>0.0</td>\n",
       "      <td>1</td>\n",
       "      <td>0</td>\n",
       "      <td>2333</td>\n",
       "      <td>1516</td>\n",
       "      <td>95</td>\n",
       "      <td>360</td>\n",
       "      <td>1</td>\n",
       "      <td>1</td>\n",
       "      <td>1</td>\n",
       "    </tr>\n",
       "  </tbody>\n",
       "</table>\n",
       "</div>"
      ],
      "text/plain": [
       "   Gender  Married  Dependents  Education  Self_Employed  ApplicantIncome  \\\n",
       "0       0        0         1.0          0              0             4583   \n",
       "1       0        0         0.0          0              1             3000   \n",
       "2       0        0         0.0          1              0             2583   \n",
       "3       0        1         0.0          0              0             6000   \n",
       "4       0        0         0.0          1              0             2333   \n",
       "\n",
       "   CoapplicantIncome  LoanAmount  Loan_Amount_Term  Credit_History  \\\n",
       "0               1508         128               360               1   \n",
       "1                  0          66               360               1   \n",
       "2               2358         120               360               1   \n",
       "3                  0         141               360               1   \n",
       "4               1516          95               360               1   \n",
       "\n",
       "   Property_Area  Loan_Status  \n",
       "0              0            0  \n",
       "1              1            1  \n",
       "2              1            1  \n",
       "3              1            1  \n",
       "4              1            1  "
      ]
     },
     "execution_count": 12,
     "metadata": {},
     "output_type": "execute_result"
    }
   ],
   "source": [
    "df.head()"
   ]
  },
  {
   "cell_type": "markdown",
   "id": "b6ed0f36",
   "metadata": {
    "papermill": {
     "duration": 0.007098,
     "end_time": "2024-02-03T05:51:16.980913",
     "exception": false,
     "start_time": "2024-02-03T05:51:16.973815",
     "status": "completed"
    },
    "tags": []
   },
   "source": [
    "# Data Visualization"
   ]
  },
  {
   "cell_type": "markdown",
   "id": "df403ce5",
   "metadata": {
    "papermill": {
     "duration": 0.007317,
     "end_time": "2024-02-03T05:51:16.995863",
     "exception": false,
     "start_time": "2024-02-03T05:51:16.988546",
     "status": "completed"
    },
    "tags": []
   },
   "source": [
    "#### Analyze categorical values assigned to columns"
   ]
  },
  {
   "cell_type": "code",
   "execution_count": 13,
   "id": "fd503e25",
   "metadata": {
    "execution": {
     "iopub.execute_input": "2024-02-03T05:51:17.012559Z",
     "iopub.status.busy": "2024-02-03T05:51:17.011984Z",
     "iopub.status.idle": "2024-02-03T05:51:17.950909Z",
     "shell.execute_reply": "2024-02-03T05:51:17.949676Z"
    },
    "papermill": {
     "duration": 0.950174,
     "end_time": "2024-02-03T05:51:17.953423",
     "exception": false,
     "start_time": "2024-02-03T05:51:17.003249",
     "status": "completed"
    },
    "tags": []
   },
   "outputs": [
    {
     "data": {
      "image/png": "[encoded data removed]",
      "text/plain": [
       "<Figure size 1200x1500 with 6 Axes>"
      ]
     },
     "metadata": {},
     "output_type": "display_data"
    }
   ],
   "source": [
    "fig, ax = plt.subplots(3, 2, figsize=(12,15))\n",
    "\n",
    "for index, cat_col in enumerate(c_variables):\n",
    "    row, col = index//2, index%2\n",
    "    sns.countplot(x=cat_col, data=df, hue='Loan_Status', ax=ax[row, col])\n",
    "\n",
    "plt.subplots_adjust(hspace=1)"
   ]
  },
  {
   "cell_type": "markdown",
   "id": "794d2e06",
   "metadata": {
    "papermill": {
     "duration": 0.008047,
     "end_time": "2024-02-03T05:51:17.970186",
     "exception": false,
     "start_time": "2024-02-03T05:51:17.962139",
     "status": "completed"
    },
    "tags": []
   },
   "source": [
    "#### Analyze Numerical Columns"
   ]
  },
  {
   "cell_type": "code",
   "execution_count": 14,
   "id": "cf8c167f",
   "metadata": {
    "execution": {
     "iopub.execute_input": "2024-02-03T05:51:17.988825Z",
     "iopub.status.busy": "2024-02-03T05:51:17.988492Z",
     "iopub.status.idle": "2024-02-03T05:51:18.397436Z",
     "shell.execute_reply": "2024-02-03T05:51:18.395890Z"
    },
    "papermill": {
     "duration": 0.421482,
     "end_time": "2024-02-03T05:51:18.399790",
     "exception": false,
     "start_time": "2024-02-03T05:51:17.978308",
     "status": "completed"
    },
    "tags": []
   },
   "outputs": [
    {
     "name": "stdout",
     "output_type": "stream",
     "text": [
      "       ApplicantIncome  CoapplicantIncome  LoanAmount\n",
      "count       381.000000         381.000000  381.000000\n",
      "mean       3579.845144        1277.272966  104.986877\n",
      "std        1419.813818        2340.818546   28.358464\n",
      "min         150.000000           0.000000    9.000000\n",
      "25%        2600.000000           0.000000   90.000000\n",
      "50%        3333.000000         983.000000  110.000000\n",
      "75%        4288.000000        2016.000000  127.000000\n",
      "max        9703.000000       33837.000000  150.000000\n"
     ]
    },
    {
     "data": {
      "image/png": "[encoded data removed]",
      "text/plain": [
       "<Figure size 1700x500 with 3 Axes>"
      ]
     },
     "metadata": {},
     "output_type": "display_data"
    }
   ],
   "source": [
    "numerical_columns = ['ApplicantIncome', 'CoapplicantIncome', 'LoanAmount']\n",
    "\n",
    "fig,axes = plt.subplots(1,3,figsize=(17,5))\n",
    "for idx,cat_col in enumerate(numerical_columns):\n",
    "    sns.boxplot(y=cat_col,data=df,x='Loan_Status',ax=axes[idx])\n",
    "\n",
    "print(df[numerical_columns].describe())\n",
    "plt.subplots_adjust(hspace=1)"
   ]
  },
  {
   "cell_type": "markdown",
   "id": "09f6dbb1",
   "metadata": {
    "papermill": {
     "duration": 0.008354,
     "end_time": "2024-02-03T05:51:18.417808",
     "exception": false,
     "start_time": "2024-02-03T05:51:18.409454",
     "status": "completed"
    },
    "tags": []
   },
   "source": [
    "# Preprocessing Data"
   ]
  },
  {
   "cell_type": "code",
   "execution_count": 15,
   "id": "af47f5a9",
   "metadata": {
    "execution": {
     "iopub.execute_input": "2024-02-03T05:51:18.436038Z",
     "iopub.status.busy": "2024-02-03T05:51:18.435677Z",
     "iopub.status.idle": "2024-02-03T05:51:18.441389Z",
     "shell.execute_reply": "2024-02-03T05:51:18.440508Z"
    },
    "papermill": {
     "duration": 0.017067,
     "end_time": "2024-02-03T05:51:18.443228",
     "exception": false,
     "start_time": "2024-02-03T05:51:18.426161",
     "status": "completed"
    },
    "tags": []
   },
   "outputs": [],
   "source": [
    "X = df.drop(['Loan_Status'], axis=1)\n",
    "y = df['Loan_Status']"
   ]
  },
  {
   "cell_type": "code",
   "execution_count": 16,
   "id": "e75f8dd5",
   "metadata": {
    "execution": {
     "iopub.execute_input": "2024-02-03T05:51:18.462278Z",
     "iopub.status.busy": "2024-02-03T05:51:18.461918Z",
     "iopub.status.idle": "2024-02-03T05:51:18.468346Z",
     "shell.execute_reply": "2024-02-03T05:51:18.467264Z"
    },
    "papermill": {
     "duration": 0.017946,
     "end_time": "2024-02-03T05:51:18.470063",
     "exception": false,
     "start_time": "2024-02-03T05:51:18.452117",
     "status": "completed"
    },
    "tags": []
   },
   "outputs": [
    {
     "data": {
      "text/plain": [
       "((381, 11), (381,))"
      ]
     },
     "execution_count": 16,
     "metadata": {},
     "output_type": "execute_result"
    }
   ],
   "source": [
    "X.shape, y.shape"
   ]
  },
  {
   "cell_type": "markdown",
   "id": "2b1c88fa",
   "metadata": {
    "papermill": {
     "duration": 0.008279,
     "end_time": "2024-02-03T05:51:18.486834",
     "exception": false,
     "start_time": "2024-02-03T05:51:18.478555",
     "status": "completed"
    },
    "tags": []
   },
   "source": [
    "### Splitting dataset into train and test"
   ]
  },
  {
   "cell_type": "code",
   "execution_count": 17,
   "id": "e521632b",
   "metadata": {
    "execution": {
     "iopub.execute_input": "2024-02-03T05:51:18.505706Z",
     "iopub.status.busy": "2024-02-03T05:51:18.505323Z",
     "iopub.status.idle": "2024-02-03T05:51:18.788876Z",
     "shell.execute_reply": "2024-02-03T05:51:18.787492Z"
    },
    "papermill": {
     "duration": 0.296238,
     "end_time": "2024-02-03T05:51:18.791594",
     "exception": false,
     "start_time": "2024-02-03T05:51:18.495356",
     "status": "completed"
    },
    "tags": []
   },
   "outputs": [],
   "source": [
    "from sklearn.model_selection import train_test_split\n",
    "\n",
    "X_train, X_test, y_train, y_test = train_test_split(X, y, test_size=0.2, random_state=42)"
   ]
  },
  {
   "cell_type": "code",
   "execution_count": 18,
   "id": "91783e89",
   "metadata": {
    "execution": {
     "iopub.execute_input": "2024-02-03T05:51:18.810521Z",
     "iopub.status.busy": "2024-02-03T05:51:18.810196Z",
     "iopub.status.idle": "2024-02-03T05:51:18.817516Z",
     "shell.execute_reply": "2024-02-03T05:51:18.816178Z"
    },
    "papermill": {
     "duration": 0.019504,
     "end_time": "2024-02-03T05:51:18.819881",
     "exception": false,
     "start_time": "2024-02-03T05:51:18.800377",
     "status": "completed"
    },
    "tags": []
   },
   "outputs": [
    {
     "data": {
      "text/plain": [
       "((304, 11), (304,), (77, 11), (77,))"
      ]
     },
     "execution_count": 18,
     "metadata": {},
     "output_type": "execute_result"
    }
   ],
   "source": [
    "X_train.shape, y_train.shape, X_test.shape, y_test.shape"
   ]
  },
  {
   "cell_type": "code",
   "execution_count": 19,
   "id": "d8dc4678",
   "metadata": {
    "execution": {
     "iopub.execute_input": "2024-02-03T05:51:18.840348Z",
     "iopub.status.busy": "2024-02-03T05:51:18.839992Z",
     "iopub.status.idle": "2024-02-03T05:51:18.852212Z",
     "shell.execute_reply": "2024-02-03T05:51:18.851119Z"
    },
    "papermill": {
     "duration": 0.02483,
     "end_time": "2024-02-03T05:51:18.854042",
     "exception": false,
     "start_time": "2024-02-03T05:51:18.829212",
     "status": "completed"
    },
    "tags": []
   },
   "outputs": [],
   "source": [
    "from sklearn.preprocessing import StandardScaler\n",
    "\n",
    "scaler = StandardScaler()\n",
    "\n",
    "X_train = scaler.fit_transform(X_train)\n",
    "X_test = scaler.fit_transform(X_test)"
   ]
  },
  {
   "cell_type": "markdown",
   "id": "e570a461",
   "metadata": {
    "papermill": {
     "duration": 0.008998,
     "end_time": "2024-02-03T05:51:18.873070",
     "exception": false,
     "start_time": "2024-02-03T05:51:18.864072",
     "status": "completed"
    },
    "tags": []
   },
   "source": [
    "# Model - DecisionTreeClassifier"
   ]
  },
  {
   "cell_type": "code",
   "execution_count": 20,
   "id": "a6f51c37",
   "metadata": {
    "execution": {
     "iopub.execute_input": "2024-02-03T05:51:18.892601Z",
     "iopub.status.busy": "2024-02-03T05:51:18.892270Z",
     "iopub.status.idle": "2024-02-03T05:51:19.090866Z",
     "shell.execute_reply": "2024-02-03T05:51:19.089888Z"
    },
    "papermill": {
     "duration": 0.211125,
     "end_time": "2024-02-03T05:51:19.093192",
     "exception": false,
     "start_time": "2024-02-03T05:51:18.882067",
     "status": "completed"
    },
    "tags": []
   },
   "outputs": [],
   "source": [
    "from sklearn.tree import DecisionTreeClassifier\n",
    "from sklearn.metrics import accuracy_score,roc_auc_score"
   ]
  },
  {
   "cell_type": "code",
   "execution_count": 21,
   "id": "d6392f56",
   "metadata": {
    "execution": {
     "iopub.execute_input": "2024-02-03T05:51:19.112187Z",
     "iopub.status.busy": "2024-02-03T05:51:19.111854Z",
     "iopub.status.idle": "2024-02-03T05:51:19.117231Z",
     "shell.execute_reply": "2024-02-03T05:51:19.115933Z"
    },
    "papermill": {
     "duration": 0.017094,
     "end_time": "2024-02-03T05:51:19.119294",
     "exception": false,
     "start_time": "2024-02-03T05:51:19.102200",
     "status": "completed"
    },
    "tags": []
   },
   "outputs": [],
   "source": [
    "model = DecisionTreeClassifier(max_depth=3,min_samples_leaf = 35)"
   ]
  },
  {
   "cell_type": "code",
   "execution_count": 22,
   "id": "c6d1d8f3",
   "metadata": {
    "execution": {
     "iopub.execute_input": "2024-02-03T05:51:19.138614Z",
     "iopub.status.busy": "2024-02-03T05:51:19.138312Z",
     "iopub.status.idle": "2024-02-03T05:51:19.150515Z",
     "shell.execute_reply": "2024-02-03T05:51:19.149487Z"
    },
    "papermill": {
     "duration": 0.023948,
     "end_time": "2024-02-03T05:51:19.152236",
     "exception": false,
     "start_time": "2024-02-03T05:51:19.128288",
     "status": "completed"
    },
    "tags": []
   },
   "outputs": [
    {
     "data": {
      "text/html": [
       "<style>#sk-container-id-1 {color: black;background-color: white;}#sk-container-id-1 pre{padding: 0;}#sk-container-id-1 div.sk-toggleable {background-color: white;}#sk-container-id-1 label.sk-toggleable__label {cursor: pointer;display: block;width: 100%;margin-bottom: 0;padding: 0.3em;box-sizing: border-box;text-align: center;}#sk-container-id-1 label.sk-toggleable__label-arrow:before {content: \"▸\";float: left;margin-right: 0.25em;color: #696969;}#sk-container-id-1 label.sk-toggleable__label-arrow:hover:before {color: black;}#sk-container-id-1 div.sk-estimator:hover label.sk-toggleable__label-arrow:before {color: black;}#sk-container-id-1 div.sk-toggleable__content {max-height: 0;max-width: 0;overflow: hidden;text-align: left;background-color: #f0f8ff;}#sk-container-id-1 div.sk-toggleable__content pre {margin: 0.2em;color: black;border-radius: 0.25em;background-color: #f0f8ff;}#sk-container-id-1 input.sk-toggleable__control:checked~div.sk-toggleable__content {max-height: 200px;max-width: 100%;overflow: auto;}#sk-container-id-1 input.sk-toggleable__control:checked~label.sk-toggleable__label-arrow:before {content: \"▾\";}#sk-container-id-1 div.sk-estimator input.sk-toggleable__control:checked~label.sk-toggleable__label {background-color: #d4ebff;}#sk-container-id-1 div.sk-label input.sk-toggleable__control:checked~label.sk-toggleable__label {background-color: #d4ebff;}#sk-container-id-1 input.sk-hidden--visually {border: 0;clip: rect(1px 1px 1px 1px);clip: rect(1px, 1px, 1px, 1px);height: 1px;margin: -1px;overflow: hidden;padding: 0;position: absolute;width: 1px;}#sk-container-id-1 div.sk-estimator {font-family: monospace;background-color: #f0f8ff;border: 1px dotted black;border-radius: 0.25em;box-sizing: border-box;margin-bottom: 0.5em;}#sk-container-id-1 div.sk-estimator:hover {background-color: #d4ebff;}#sk-container-id-1 div.sk-parallel-item::after {content: \"\";width: 100%;border-bottom: 1px solid gray;flex-grow: 1;}#sk-container-id-1 div.sk-label:hover label.sk-toggleable__label {background-color: #d4ebff;}#sk-container-id-1 div.sk-serial::before {content: \"\";position: absolute;border-left: 1px solid gray;box-sizing: border-box;top: 0;bottom: 0;left: 50%;z-index: 0;}#sk-container-id-1 div.sk-serial {display: flex;flex-direction: column;align-items: center;background-color: white;padding-right: 0.2em;padding-left: 0.2em;position: relative;}#sk-container-id-1 div.sk-item {position: relative;z-index: 1;}#sk-container-id-1 div.sk-parallel {display: flex;align-items: stretch;justify-content: center;background-color: white;position: relative;}#sk-container-id-1 div.sk-item::before, #sk-container-id-1 div.sk-parallel-item::before {content: \"\";position: absolute;border-left: 1px solid gray;box-sizing: border-box;top: 0;bottom: 0;left: 50%;z-index: -1;}#sk-container-id-1 div.sk-parallel-item {display: flex;flex-direction: column;z-index: 1;position: relative;background-color: white;}#sk-container-id-1 div.sk-parallel-item:first-child::after {align-self: flex-end;width: 50%;}#sk-container-id-1 div.sk-parallel-item:last-child::after {align-self: flex-start;width: 50%;}#sk-container-id-1 div.sk-parallel-item:only-child::after {width: 0;}#sk-container-id-1 div.sk-dashed-wrapped {border: 1px dashed gray;margin: 0 0.4em 0.5em 0.4em;box-sizing: border-box;padding-bottom: 0.4em;background-color: white;}#sk-container-id-1 div.sk-label label {font-family: monospace;font-weight: bold;display: inline-block;line-height: 1.2em;}#sk-container-id-1 div.sk-label-container {text-align: center;}#sk-container-id-1 div.sk-container {/* jupyter's `normalize.less` sets `[hidden] { display: none; }` but bootstrap.min.css set `[hidden] { display: none !important; }` so we also need the `!important` here to be able to override the default hidden behavior on the sphinx rendered scikit-learn.org. See: https://github.com/scikit-learn/scikit-learn/issues/21755 */display: inline-block !important;position: relative;}#sk-container-id-1 div.sk-text-repr-fallback {display: none;}</style><div id=\"sk-container-id-1\" class=\"sk-top-container\"><div class=\"sk-text-repr-fallback\"><pre>DecisionTreeClassifier(max_depth=3, min_samples_leaf=35)</pre><b>In a Jupyter environment, please rerun this cell to show the HTML representation or trust the notebook. <br />On GitHub, the HTML representation is unable to render, please try loading this page with nbviewer.org.</b></div><div class=\"sk-container\" hidden><div class=\"sk-item\"><div class=\"sk-estimator sk-toggleable\"><input class=\"sk-toggleable__control sk-hidden--visually\" id=\"sk-estimator-id-1\" type=\"checkbox\" checked><label for=\"sk-estimator-id-1\" class=\"sk-toggleable__label sk-toggleable__label-arrow\">DecisionTreeClassifier</label><div class=\"sk-toggleable__content\"><pre>DecisionTreeClassifier(max_depth=3, min_samples_leaf=35)</pre></div></div></div></div></div>"
      ],
      "text/plain": [
       "DecisionTreeClassifier(max_depth=3, min_samples_leaf=35)"
      ]
     },
     "execution_count": 22,
     "metadata": {},
     "output_type": "execute_result"
    }
   ],
   "source": [
    "model.fit(X_train,y_train)"
   ]
  },
  {
   "cell_type": "markdown",
   "id": "fc57f97f",
   "metadata": {
    "papermill": {
     "duration": 0.008724,
     "end_time": "2024-02-03T05:51:19.169913",
     "exception": false,
     "start_time": "2024-02-03T05:51:19.161189",
     "status": "completed"
    },
    "tags": []
   },
   "source": [
    "# Testing Part"
   ]
  },
  {
   "cell_type": "code",
   "execution_count": 23,
   "id": "a79f63d0",
   "metadata": {
    "execution": {
     "iopub.execute_input": "2024-02-03T05:51:19.190386Z",
     "iopub.status.busy": "2024-02-03T05:51:19.190084Z",
     "iopub.status.idle": "2024-02-03T05:51:19.194905Z",
     "shell.execute_reply": "2024-02-03T05:51:19.194008Z"
    },
    "papermill": {
     "duration": 0.017463,
     "end_time": "2024-02-03T05:51:19.196751",
     "exception": false,
     "start_time": "2024-02-03T05:51:19.179288",
     "status": "completed"
    },
    "tags": []
   },
   "outputs": [],
   "source": [
    "y_pred = model.predict(X_test)"
   ]
  },
  {
   "cell_type": "code",
   "execution_count": 24,
   "id": "9ff840d1",
   "metadata": {
    "execution": {
     "iopub.execute_input": "2024-02-03T05:51:19.216692Z",
     "iopub.status.busy": "2024-02-03T05:51:19.216326Z",
     "iopub.status.idle": "2024-02-03T05:51:19.227555Z",
     "shell.execute_reply": "2024-02-03T05:51:19.226846Z"
    },
    "papermill": {
     "duration": 0.023511,
     "end_time": "2024-02-03T05:51:19.229612",
     "exception": false,
     "start_time": "2024-02-03T05:51:19.206101",
     "status": "completed"
    },
    "tags": []
   },
   "outputs": [
    {
     "name": "stdout",
     "output_type": "stream",
     "text": [
      "Accuracy Score: 81.82%\n",
      "Roc Score: 66.67%\n"
     ]
    }
   ],
   "source": [
    "accuracy = accuracy_score(y_test, y_pred)\n",
    "roc_score = roc_auc_score(y_test, y_pred)\n",
    "\n",
    "print(f'Accuracy Score: {accuracy*100:0.2f}%')\n",
    "print(f'Roc Score: {roc_score*100:0.2f}%')"
   ]
  },
  {
   "cell_type": "code",
   "execution_count": 25,
   "id": "0e5120c5",
   "metadata": {
    "execution": {
     "iopub.execute_input": "2024-02-03T05:51:19.249979Z",
     "iopub.status.busy": "2024-02-03T05:51:19.249668Z",
     "iopub.status.idle": "2024-02-03T05:51:19.279285Z",
     "shell.execute_reply": "2024-02-03T05:51:19.278695Z"
    },
    "papermill": {
     "duration": 0.042085,
     "end_time": "2024-02-03T05:51:19.281188",
     "exception": false,
     "start_time": "2024-02-03T05:51:19.239103",
     "status": "completed"
    },
    "tags": []
   },
   "outputs": [
    {
     "data": {
      "text/html": [
       "<div>\n",
       "<style scoped>\n",
       "    .dataframe tbody tr th:only-of-type {\n",
       "        vertical-align: middle;\n",
       "    }\n",
       "\n",
       "    .dataframe tbody tr th {\n",
       "        vertical-align: top;\n",
       "    }\n",
       "\n",
       "    .dataframe thead th {\n",
       "        text-align: right;\n",
       "    }\n",
       "</style>\n",
       "<table border=\"1\" class=\"dataframe\">\n",
       "  <thead>\n",
       "    <tr style=\"text-align: right;\">\n",
       "      <th>Predicted</th>\n",
       "      <th>0</th>\n",
       "      <th>1</th>\n",
       "      <th>All</th>\n",
       "    </tr>\n",
       "    <tr>\n",
       "      <th>True</th>\n",
       "      <th></th>\n",
       "      <th></th>\n",
       "      <th></th>\n",
       "    </tr>\n",
       "  </thead>\n",
       "  <tbody>\n",
       "    <tr>\n",
       "      <th>0</th>\n",
       "      <td>7</td>\n",
       "      <td>14</td>\n",
       "      <td>21</td>\n",
       "    </tr>\n",
       "    <tr>\n",
       "      <th>1</th>\n",
       "      <td>0</td>\n",
       "      <td>56</td>\n",
       "      <td>56</td>\n",
       "    </tr>\n",
       "    <tr>\n",
       "      <th>All</th>\n",
       "      <td>7</td>\n",
       "      <td>70</td>\n",
       "      <td>77</td>\n",
       "    </tr>\n",
       "  </tbody>\n",
       "</table>\n",
       "</div>"
      ],
      "text/plain": [
       "Predicted  0   1  All\n",
       "True                 \n",
       "0          7  14   21\n",
       "1          0  56   56\n",
       "All        7  70   77"
      ]
     },
     "execution_count": 25,
     "metadata": {},
     "output_type": "execute_result"
    }
   ],
   "source": [
    "pd.crosstab(y_test, y_pred, rownames=['True'], colnames=['Predicted'], margins=True)"
   ]
  }
 ],
 "metadata": {
  "kaggle": {
   "accelerator": "none",
   "dataSources": [
    {
     "datasetId": 4390452,
     "sourceId": 7539897,
     "sourceType": "datasetVersion"
    }
   ],
   "dockerImageVersionId": 30646,
   "isGpuEnabled": false,
   "isInternetEnabled": true,
   "language": "python",
   "sourceType": "notebook"
  },
  "kernelspec": {
   "display_name": "Python 3",
   "language": "python",
   "name": "python3"
  },
  "language_info": {
   "codemirror_mode": {
    "name": "ipython",
    "version": 3
   },
   "file_extension": ".py",
   "mimetype": "text/x-python",
   "name": "python",
   "nbconvert_exporter": "python",
   "pygments_lexer": "ipython3",
   "version": "3.10.13"
  },
  "papermill": {
   "default_parameters": {},
   "duration": 8.315394,
   "end_time": "2024-02-03T05:51:19.910669",
   "environment_variables": {},
   "exception": null,
   "input_path": "__notebook__.ipynb",
   "output_path": "__notebook__.ipynb",
   "parameters": {},
   "start_time": "2024-02-03T05:51:11.595275",
   "version": "2.5.0"
  }
 },
 "nbformat": 4,
 "nbformat_minor": 5
}
